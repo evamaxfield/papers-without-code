{
 "cells": [
  {
   "cell_type": "markdown",
   "id": "5d7ba0da-a427-495d-b8eb-36ccb5606797",
   "metadata": {},
   "source": [
    "# Minor EDA on Partially Annotated Data"
   ]
  },
  {
   "cell_type": "markdown",
   "id": "3b14a8fd-69f2-4df4-acf1-bed5e89ee157",
   "metadata": {},
   "source": [
    "This is some very very minimal exploratory data analysis on the dataset constructed for testing papers-without-code. The purpose is to quantify \"what proportion of papers likely use code for their paper but do not link to it in anyway?\"\n",
    "\n",
    "You can read about the dataset construction on the [data README](./README.md)."
   ]
  },
  {
   "cell_type": "code",
   "execution_count": null,
   "id": "93753407-5b74-4059-b701-6996ab924a75",
   "metadata": {},
   "outputs": [],
   "source": [
    "# Do some basic data reading and prep\n",
    "import pandas as pd\n",
    "import seaborn as sns\n",
    "sns.set_theme(style=\"whitegrid\")\n",
    "\n",
    "df = pd.read_csv(\"annotated.csv\")\n",
    "\n",
    "# We have only annotated 25 so far\n",
    "df = df[:25]\n",
    "df.head()"
   ]
  },
  {
   "cell_type": "markdown",
   "id": "cc174d94-3c2e-4090-97c8-387787849a9f",
   "metadata": {},
   "source": [
    "## \"How many papers likely use code?\"\n",
    "\n",
    "Out of the 25 papers annotated so far, 20 \"likely used code\" as a part of their work in completing the paper. These other papers are commonly math or theory papers where they introduce an algorithm via mathematical notation."
   ]
  },
  {
   "cell_type": "code",
   "execution_count": null,
   "id": "4fa4803d-789d-4c26-9ce1-478f7f8a8ff4",
   "metadata": {},
   "outputs": [],
   "source": [
    "sns.countplot(x=df.best_guess_paper_used_code)"
   ]
  },
  {
   "cell_type": "code",
   "execution_count": null,
   "id": "b1e104e4-d1ff-489d-b3b3-e49ed3da6f37",
   "metadata": {},
   "outputs": [],
   "source": [
    "# Filter out the repos where we don't think code was used\n",
    "# Usually math or theory papers\n",
    "df = df[df.best_guess_paper_used_code == \"yes\"]\n",
    "len(df)"
   ]
  },
  {
   "cell_type": "markdown",
   "id": "dcc47747-7183-4ba0-9fd2-f03127956f20",
   "metadata": {},
   "source": [
    "## \"Of the 20, how many papers can we find repositories for?\"\n",
    "\n",
    "Out of the remaining 20 papers, we can find 13 related repositories. In the cases where we can't find repositories they either were not discoverable within the ~10 minutes I gave to searching for each repository or in one case after searching I assume the code is private because both authors are from private industry."
   ]
  },
  {
   "cell_type": "code",
   "execution_count": null,
   "id": "9760b066-ac01-4c0a-b8bc-02374ac2d3a7",
   "metadata": {},
   "outputs": [],
   "source": [
    "df[\"code_found\"] = ~df.code_repository_link.isna()\n",
    "sns.countplot(x=df.code_found)"
   ]
  },
  {
   "cell_type": "markdown",
   "id": "ead0a15a-dfd0-48bb-97ab-e5bb265470a6",
   "metadata": {},
   "source": [
    "## \"How do the papers break down by if code was found AND the code had to be manually found (it _wasn't_ linked in the paper)?\"\n",
    "\n",
    "Of the papers where related code was found, 8 of the papers provided links directly to the code and 5 of the papers I had to manually search for repositories for.\n",
    "\n",
    "Note on the odd case of \"no code was found but a code repository _was_ linked in the paper\" is that the code has since been deleted (or was never published) -- however, I found a similar repository authored by one of the authors that I feel would be useful to serve back to users."
   ]
  },
  {
   "cell_type": "code",
   "execution_count": null,
   "id": "973ad22f-cdb3-49d9-b183-436c10768d34",
   "metadata": {},
   "outputs": [],
   "source": [
    "sns.countplot(x=\"code_found\", hue=\"code_repository_linked_in_paper\", data=df)"
   ]
  },
  {
   "cell_type": "code",
   "execution_count": null,
   "id": "d579e1c2-78e3-450a-8388-c0ee167521f6",
   "metadata": {},
   "outputs": [],
   "source": [
    "df[(df.code_found == False) & (df.code_repository_linked_in_paper == \"yes\")].iloc[0].comments"
   ]
  }
 ],
 "metadata": {
  "kernelspec": {
   "display_name": "Python 3 (ipykernel)",
   "language": "python",
   "name": "python3"
  },
  "language_info": {
   "codemirror_mode": {
    "name": "ipython",
    "version": 3
   },
   "file_extension": ".py",
   "mimetype": "text/x-python",
   "name": "python",
   "nbconvert_exporter": "python",
   "pygments_lexer": "ipython3",
   "version": "3.10.8"
  }
 },
 "nbformat": 4,
 "nbformat_minor": 5
}
